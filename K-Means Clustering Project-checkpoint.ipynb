{
 "cells": [
  {
   "cell_type": "markdown",
   "metadata": {},
   "source": [
    "# K-means Clustering Analysis on Cervical Cancer Dataset"
   ]
  },
  {
   "cell_type": "code",
   "execution_count": 2,
   "metadata": {},
   "outputs": [],
   "source": [
    "import pandas as pd\n",
    "import numpy as np\n",
    "from sklearn.impute import SimpleImputer"
   ]
  },
  {
   "cell_type": "code",
   "execution_count": 3,
   "metadata": {},
   "outputs": [
    {
     "data": {
      "text/html": [
       "<div>\n",
       "<style scoped>\n",
       "    .dataframe tbody tr th:only-of-type {\n",
       "        vertical-align: middle;\n",
       "    }\n",
       "\n",
       "    .dataframe tbody tr th {\n",
       "        vertical-align: top;\n",
       "    }\n",
       "\n",
       "    .dataframe thead th {\n",
       "        text-align: right;\n",
       "    }\n",
       "</style>\n",
       "<table border=\"1\" class=\"dataframe\">\n",
       "  <thead>\n",
       "    <tr style=\"text-align: right;\">\n",
       "      <th></th>\n",
       "      <th>Age</th>\n",
       "      <th>Number of sexual partners</th>\n",
       "      <th>First sexual intercourse</th>\n",
       "      <th>Num of pregnancies</th>\n",
       "      <th>STDs: Number of diagnosis</th>\n",
       "      <th>STDs: Time since first diagnosis</th>\n",
       "      <th>STDs: Time since last diagnosis</th>\n",
       "    </tr>\n",
       "  </thead>\n",
       "  <tbody>\n",
       "    <tr>\n",
       "      <th>0</th>\n",
       "      <td>18</td>\n",
       "      <td>4.0</td>\n",
       "      <td>15.0</td>\n",
       "      <td>1.0</td>\n",
       "      <td>0</td>\n",
       "      <td>NaN</td>\n",
       "      <td>NaN</td>\n",
       "    </tr>\n",
       "    <tr>\n",
       "      <th>1</th>\n",
       "      <td>15</td>\n",
       "      <td>1.0</td>\n",
       "      <td>14.0</td>\n",
       "      <td>1.0</td>\n",
       "      <td>0</td>\n",
       "      <td>NaN</td>\n",
       "      <td>NaN</td>\n",
       "    </tr>\n",
       "    <tr>\n",
       "      <th>2</th>\n",
       "      <td>34</td>\n",
       "      <td>1.0</td>\n",
       "      <td>NaN</td>\n",
       "      <td>1.0</td>\n",
       "      <td>0</td>\n",
       "      <td>NaN</td>\n",
       "      <td>NaN</td>\n",
       "    </tr>\n",
       "    <tr>\n",
       "      <th>3</th>\n",
       "      <td>52</td>\n",
       "      <td>5.0</td>\n",
       "      <td>16.0</td>\n",
       "      <td>4.0</td>\n",
       "      <td>0</td>\n",
       "      <td>NaN</td>\n",
       "      <td>NaN</td>\n",
       "    </tr>\n",
       "    <tr>\n",
       "      <th>4</th>\n",
       "      <td>46</td>\n",
       "      <td>3.0</td>\n",
       "      <td>21.0</td>\n",
       "      <td>4.0</td>\n",
       "      <td>0</td>\n",
       "      <td>NaN</td>\n",
       "      <td>NaN</td>\n",
       "    </tr>\n",
       "    <tr>\n",
       "      <th>...</th>\n",
       "      <td>...</td>\n",
       "      <td>...</td>\n",
       "      <td>...</td>\n",
       "      <td>...</td>\n",
       "      <td>...</td>\n",
       "      <td>...</td>\n",
       "      <td>...</td>\n",
       "    </tr>\n",
       "    <tr>\n",
       "      <th>853</th>\n",
       "      <td>34</td>\n",
       "      <td>3.0</td>\n",
       "      <td>18.0</td>\n",
       "      <td>0.0</td>\n",
       "      <td>0</td>\n",
       "      <td>NaN</td>\n",
       "      <td>NaN</td>\n",
       "    </tr>\n",
       "    <tr>\n",
       "      <th>854</th>\n",
       "      <td>32</td>\n",
       "      <td>2.0</td>\n",
       "      <td>19.0</td>\n",
       "      <td>1.0</td>\n",
       "      <td>0</td>\n",
       "      <td>NaN</td>\n",
       "      <td>NaN</td>\n",
       "    </tr>\n",
       "    <tr>\n",
       "      <th>855</th>\n",
       "      <td>25</td>\n",
       "      <td>2.0</td>\n",
       "      <td>17.0</td>\n",
       "      <td>0.0</td>\n",
       "      <td>0</td>\n",
       "      <td>NaN</td>\n",
       "      <td>NaN</td>\n",
       "    </tr>\n",
       "    <tr>\n",
       "      <th>856</th>\n",
       "      <td>33</td>\n",
       "      <td>2.0</td>\n",
       "      <td>24.0</td>\n",
       "      <td>2.0</td>\n",
       "      <td>0</td>\n",
       "      <td>NaN</td>\n",
       "      <td>NaN</td>\n",
       "    </tr>\n",
       "    <tr>\n",
       "      <th>857</th>\n",
       "      <td>29</td>\n",
       "      <td>2.0</td>\n",
       "      <td>20.0</td>\n",
       "      <td>1.0</td>\n",
       "      <td>0</td>\n",
       "      <td>NaN</td>\n",
       "      <td>NaN</td>\n",
       "    </tr>\n",
       "  </tbody>\n",
       "</table>\n",
       "<p>858 rows × 7 columns</p>\n",
       "</div>"
      ],
      "text/plain": [
       "     Age  Number of sexual partners  First sexual intercourse  \\\n",
       "0     18                        4.0                      15.0   \n",
       "1     15                        1.0                      14.0   \n",
       "2     34                        1.0                       NaN   \n",
       "3     52                        5.0                      16.0   \n",
       "4     46                        3.0                      21.0   \n",
       "..   ...                        ...                       ...   \n",
       "853   34                        3.0                      18.0   \n",
       "854   32                        2.0                      19.0   \n",
       "855   25                        2.0                      17.0   \n",
       "856   33                        2.0                      24.0   \n",
       "857   29                        2.0                      20.0   \n",
       "\n",
       "     Num of pregnancies  STDs: Number of diagnosis  \\\n",
       "0                   1.0                          0   \n",
       "1                   1.0                          0   \n",
       "2                   1.0                          0   \n",
       "3                   4.0                          0   \n",
       "4                   4.0                          0   \n",
       "..                  ...                        ...   \n",
       "853                 0.0                          0   \n",
       "854                 1.0                          0   \n",
       "855                 0.0                          0   \n",
       "856                 2.0                          0   \n",
       "857                 1.0                          0   \n",
       "\n",
       "     STDs: Time since first diagnosis  STDs: Time since last diagnosis  \n",
       "0                                 NaN                              NaN  \n",
       "1                                 NaN                              NaN  \n",
       "2                                 NaN                              NaN  \n",
       "3                                 NaN                              NaN  \n",
       "4                                 NaN                              NaN  \n",
       "..                                ...                              ...  \n",
       "853                               NaN                              NaN  \n",
       "854                               NaN                              NaN  \n",
       "855                               NaN                              NaN  \n",
       "856                               NaN                              NaN  \n",
       "857                               NaN                              NaN  \n",
       "\n",
       "[858 rows x 7 columns]"
      ]
     },
     "execution_count": 3,
     "metadata": {},
     "output_type": "execute_result"
    }
   ],
   "source": [
    "Cervical = pd.read_csv(\"F:\\cervical cancer2.csv\")\n",
    "Cervical"
   ]
  },
  {
   "cell_type": "code",
   "execution_count": 4,
   "metadata": {},
   "outputs": [
    {
     "data": {
      "text/plain": [
       "Age                                   int64\n",
       "Number of sexual partners           float64\n",
       "First sexual intercourse            float64\n",
       "Num of pregnancies                  float64\n",
       "STDs: Number of diagnosis             int64\n",
       "STDs: Time since first diagnosis    float64\n",
       "STDs: Time since last diagnosis     float64\n",
       "dtype: object"
      ]
     },
     "execution_count": 4,
     "metadata": {},
     "output_type": "execute_result"
    }
   ],
   "source": [
    "Cervical.dtypes"
   ]
  },
  {
   "cell_type": "markdown",
   "metadata": {},
   "source": [
    "## Detecting Missing Value"
   ]
  },
  {
   "cell_type": "code",
   "execution_count": 5,
   "metadata": {},
   "outputs": [
    {
     "data": {
      "text/plain": [
       "Age                                   0\n",
       "Number of sexual partners            26\n",
       "First sexual intercourse              7\n",
       "Num of pregnancies                   56\n",
       "STDs: Number of diagnosis             0\n",
       "STDs: Time since first diagnosis    787\n",
       "STDs: Time since last diagnosis     787\n",
       "dtype: int64"
      ]
     },
     "execution_count": 5,
     "metadata": {},
     "output_type": "execute_result"
    }
   ],
   "source": [
    "Cervical.isnull().sum()"
   ]
  },
  {
   "cell_type": "code",
   "execution_count": 6,
   "metadata": {},
   "outputs": [],
   "source": [
    "Cervical[\"Number of sexual partners\"]=Cervical[\"Number of sexual partners\"].fillna(Cervical[\"Number of sexual partners\"].mean())"
   ]
  },
  {
   "cell_type": "code",
   "execution_count": 7,
   "metadata": {},
   "outputs": [],
   "source": [
    "Cervical[\"First sexual intercourse\"]=Cervical[\"First sexual intercourse\"].fillna(Cervical[\"First sexual intercourse\"].mean())"
   ]
  },
  {
   "cell_type": "code",
   "execution_count": 8,
   "metadata": {},
   "outputs": [],
   "source": [
    "Cervical[\"Num of pregnancies\"]=Cervical[\"Num of pregnancies\"].fillna(Cervical[\"Num of pregnancies\"].mean())"
   ]
  },
  {
   "cell_type": "code",
   "execution_count": 9,
   "metadata": {},
   "outputs": [],
   "source": [
    "Cervical[\"STDs: Time since first diagnosis\"]=Cervical[\"STDs: Time since first diagnosis\"].fillna(Cervical[\"STDs: Time since first diagnosis\"].mean())"
   ]
  },
  {
   "cell_type": "code",
   "execution_count": 10,
   "metadata": {},
   "outputs": [],
   "source": [
    "Cervical[\"STDs: Time since last diagnosis\"]=Cervical[\"STDs: Time since last diagnosis\"].fillna(Cervical[\"STDs: Time since last diagnosis\"].mean())"
   ]
  },
  {
   "cell_type": "code",
   "execution_count": 11,
   "metadata": {},
   "outputs": [
    {
     "data": {
      "text/plain": [
       "Age                                 0\n",
       "Number of sexual partners           0\n",
       "First sexual intercourse            0\n",
       "Num of pregnancies                  0\n",
       "STDs: Number of diagnosis           0\n",
       "STDs: Time since first diagnosis    0\n",
       "STDs: Time since last diagnosis     0\n",
       "dtype: int64"
      ]
     },
     "execution_count": 11,
     "metadata": {},
     "output_type": "execute_result"
    }
   ],
   "source": [
    "Cervical.isnull().sum()"
   ]
  },
  {
   "cell_type": "code",
   "execution_count": 12,
   "metadata": {},
   "outputs": [
    {
     "data": {
      "text/html": [
       "<div>\n",
       "<style scoped>\n",
       "    .dataframe tbody tr th:only-of-type {\n",
       "        vertical-align: middle;\n",
       "    }\n",
       "\n",
       "    .dataframe tbody tr th {\n",
       "        vertical-align: top;\n",
       "    }\n",
       "\n",
       "    .dataframe thead th {\n",
       "        text-align: right;\n",
       "    }\n",
       "</style>\n",
       "<table border=\"1\" class=\"dataframe\">\n",
       "  <thead>\n",
       "    <tr style=\"text-align: right;\">\n",
       "      <th></th>\n",
       "      <th>Age</th>\n",
       "      <th>Number of sexual partners</th>\n",
       "      <th>First sexual intercourse</th>\n",
       "      <th>Num of pregnancies</th>\n",
       "      <th>STDs: Number of diagnosis</th>\n",
       "      <th>STDs: Time since first diagnosis</th>\n",
       "      <th>STDs: Time since last diagnosis</th>\n",
       "    </tr>\n",
       "  </thead>\n",
       "  <tbody>\n",
       "    <tr>\n",
       "      <th>0</th>\n",
       "      <td>18</td>\n",
       "      <td>4.0</td>\n",
       "      <td>15.0000</td>\n",
       "      <td>1.0</td>\n",
       "      <td>0</td>\n",
       "      <td>6.140845</td>\n",
       "      <td>5.816901</td>\n",
       "    </tr>\n",
       "    <tr>\n",
       "      <th>1</th>\n",
       "      <td>15</td>\n",
       "      <td>1.0</td>\n",
       "      <td>14.0000</td>\n",
       "      <td>1.0</td>\n",
       "      <td>0</td>\n",
       "      <td>6.140845</td>\n",
       "      <td>5.816901</td>\n",
       "    </tr>\n",
       "    <tr>\n",
       "      <th>2</th>\n",
       "      <td>34</td>\n",
       "      <td>1.0</td>\n",
       "      <td>16.9953</td>\n",
       "      <td>1.0</td>\n",
       "      <td>0</td>\n",
       "      <td>6.140845</td>\n",
       "      <td>5.816901</td>\n",
       "    </tr>\n",
       "    <tr>\n",
       "      <th>3</th>\n",
       "      <td>52</td>\n",
       "      <td>5.0</td>\n",
       "      <td>16.0000</td>\n",
       "      <td>4.0</td>\n",
       "      <td>0</td>\n",
       "      <td>6.140845</td>\n",
       "      <td>5.816901</td>\n",
       "    </tr>\n",
       "    <tr>\n",
       "      <th>4</th>\n",
       "      <td>46</td>\n",
       "      <td>3.0</td>\n",
       "      <td>21.0000</td>\n",
       "      <td>4.0</td>\n",
       "      <td>0</td>\n",
       "      <td>6.140845</td>\n",
       "      <td>5.816901</td>\n",
       "    </tr>\n",
       "    <tr>\n",
       "      <th>...</th>\n",
       "      <td>...</td>\n",
       "      <td>...</td>\n",
       "      <td>...</td>\n",
       "      <td>...</td>\n",
       "      <td>...</td>\n",
       "      <td>...</td>\n",
       "      <td>...</td>\n",
       "    </tr>\n",
       "    <tr>\n",
       "      <th>853</th>\n",
       "      <td>34</td>\n",
       "      <td>3.0</td>\n",
       "      <td>18.0000</td>\n",
       "      <td>0.0</td>\n",
       "      <td>0</td>\n",
       "      <td>6.140845</td>\n",
       "      <td>5.816901</td>\n",
       "    </tr>\n",
       "    <tr>\n",
       "      <th>854</th>\n",
       "      <td>32</td>\n",
       "      <td>2.0</td>\n",
       "      <td>19.0000</td>\n",
       "      <td>1.0</td>\n",
       "      <td>0</td>\n",
       "      <td>6.140845</td>\n",
       "      <td>5.816901</td>\n",
       "    </tr>\n",
       "    <tr>\n",
       "      <th>855</th>\n",
       "      <td>25</td>\n",
       "      <td>2.0</td>\n",
       "      <td>17.0000</td>\n",
       "      <td>0.0</td>\n",
       "      <td>0</td>\n",
       "      <td>6.140845</td>\n",
       "      <td>5.816901</td>\n",
       "    </tr>\n",
       "    <tr>\n",
       "      <th>856</th>\n",
       "      <td>33</td>\n",
       "      <td>2.0</td>\n",
       "      <td>24.0000</td>\n",
       "      <td>2.0</td>\n",
       "      <td>0</td>\n",
       "      <td>6.140845</td>\n",
       "      <td>5.816901</td>\n",
       "    </tr>\n",
       "    <tr>\n",
       "      <th>857</th>\n",
       "      <td>29</td>\n",
       "      <td>2.0</td>\n",
       "      <td>20.0000</td>\n",
       "      <td>1.0</td>\n",
       "      <td>0</td>\n",
       "      <td>6.140845</td>\n",
       "      <td>5.816901</td>\n",
       "    </tr>\n",
       "  </tbody>\n",
       "</table>\n",
       "<p>858 rows × 7 columns</p>\n",
       "</div>"
      ],
      "text/plain": [
       "     Age  Number of sexual partners  First sexual intercourse  \\\n",
       "0     18                        4.0                   15.0000   \n",
       "1     15                        1.0                   14.0000   \n",
       "2     34                        1.0                   16.9953   \n",
       "3     52                        5.0                   16.0000   \n",
       "4     46                        3.0                   21.0000   \n",
       "..   ...                        ...                       ...   \n",
       "853   34                        3.0                   18.0000   \n",
       "854   32                        2.0                   19.0000   \n",
       "855   25                        2.0                   17.0000   \n",
       "856   33                        2.0                   24.0000   \n",
       "857   29                        2.0                   20.0000   \n",
       "\n",
       "     Num of pregnancies  STDs: Number of diagnosis  \\\n",
       "0                   1.0                          0   \n",
       "1                   1.0                          0   \n",
       "2                   1.0                          0   \n",
       "3                   4.0                          0   \n",
       "4                   4.0                          0   \n",
       "..                  ...                        ...   \n",
       "853                 0.0                          0   \n",
       "854                 1.0                          0   \n",
       "855                 0.0                          0   \n",
       "856                 2.0                          0   \n",
       "857                 1.0                          0   \n",
       "\n",
       "     STDs: Time since first diagnosis  STDs: Time since last diagnosis  \n",
       "0                            6.140845                         5.816901  \n",
       "1                            6.140845                         5.816901  \n",
       "2                            6.140845                         5.816901  \n",
       "3                            6.140845                         5.816901  \n",
       "4                            6.140845                         5.816901  \n",
       "..                                ...                              ...  \n",
       "853                          6.140845                         5.816901  \n",
       "854                          6.140845                         5.816901  \n",
       "855                          6.140845                         5.816901  \n",
       "856                          6.140845                         5.816901  \n",
       "857                          6.140845                         5.816901  \n",
       "\n",
       "[858 rows x 7 columns]"
      ]
     },
     "execution_count": 12,
     "metadata": {},
     "output_type": "execute_result"
    }
   ],
   "source": [
    "Cervical"
   ]
  },
  {
   "cell_type": "markdown",
   "metadata": {},
   "source": [
    "## Statistics Descriptive"
   ]
  },
  {
   "cell_type": "code",
   "execution_count": 13,
   "metadata": {},
   "outputs": [
    {
     "data": {
      "text/plain": [
       "<bound method NDFrame.describe of      Age  Number of sexual partners  First sexual intercourse  \\\n",
       "0     18                        4.0                   15.0000   \n",
       "1     15                        1.0                   14.0000   \n",
       "2     34                        1.0                   16.9953   \n",
       "3     52                        5.0                   16.0000   \n",
       "4     46                        3.0                   21.0000   \n",
       "..   ...                        ...                       ...   \n",
       "853   34                        3.0                   18.0000   \n",
       "854   32                        2.0                   19.0000   \n",
       "855   25                        2.0                   17.0000   \n",
       "856   33                        2.0                   24.0000   \n",
       "857   29                        2.0                   20.0000   \n",
       "\n",
       "     Num of pregnancies  STDs: Number of diagnosis  \\\n",
       "0                   1.0                          0   \n",
       "1                   1.0                          0   \n",
       "2                   1.0                          0   \n",
       "3                   4.0                          0   \n",
       "4                   4.0                          0   \n",
       "..                  ...                        ...   \n",
       "853                 0.0                          0   \n",
       "854                 1.0                          0   \n",
       "855                 0.0                          0   \n",
       "856                 2.0                          0   \n",
       "857                 1.0                          0   \n",
       "\n",
       "     STDs: Time since first diagnosis  STDs: Time since last diagnosis  \n",
       "0                            6.140845                         5.816901  \n",
       "1                            6.140845                         5.816901  \n",
       "2                            6.140845                         5.816901  \n",
       "3                            6.140845                         5.816901  \n",
       "4                            6.140845                         5.816901  \n",
       "..                                ...                              ...  \n",
       "853                          6.140845                         5.816901  \n",
       "854                          6.140845                         5.816901  \n",
       "855                          6.140845                         5.816901  \n",
       "856                          6.140845                         5.816901  \n",
       "857                          6.140845                         5.816901  \n",
       "\n",
       "[858 rows x 7 columns]>"
      ]
     },
     "execution_count": 13,
     "metadata": {},
     "output_type": "execute_result"
    }
   ],
   "source": [
    "Cervical.describe"
   ]
  },
  {
   "cell_type": "markdown",
   "metadata": {},
   "source": [
    "## Outlier Detection"
   ]
  },
  {
   "cell_type": "code",
   "execution_count": 14,
   "metadata": {},
   "outputs": [],
   "source": [
    "#Interquartile(IQ) =third quartile(Q3) -first quartile(Q1)\n",
    "IQ_1=32-20\n",
    "IQ_2=3-2\n",
    "IQ_3=18-15\n",
    "IQ_4=3-1\n",
    "IQ_5=0-0\n",
    "IQ_6=8-2\n",
    "IQ_7=7.5-2"
   ]
  },
  {
   "cell_type": "code",
   "execution_count": 15,
   "metadata": {},
   "outputs": [],
   "source": [
    "a1=32+(1.5*IQ_1)\n",
    "a2=20-(1.5*IQ_1)\n",
    "b1=3+(1.5*IQ_2)\n",
    "b2=2-(1.5*IQ_2)\n",
    "c1=18+(1.5*IQ_3)\n",
    "c2=15-(1.5*IQ_3)\n",
    "d1=3+(1.5*IQ_4)\n",
    "d2=1-(1.5*IQ_4)\n",
    "e1=0+(1.5*IQ_5)\n",
    "e2=0-(1.5*IQ_5)\n",
    "f1=8+(1.5*IQ_6)\n",
    "f2=2-(1.5*IQ_6)\n",
    "g1=7.5+(1.5*IQ_7)\n",
    "g2=2-(1.5*IQ_7)"
   ]
  },
  {
   "cell_type": "code",
   "execution_count": 16,
   "metadata": {},
   "outputs": [
    {
     "data": {
      "text/html": [
       "<div>\n",
       "<style scoped>\n",
       "    .dataframe tbody tr th:only-of-type {\n",
       "        vertical-align: middle;\n",
       "    }\n",
       "\n",
       "    .dataframe tbody tr th {\n",
       "        vertical-align: top;\n",
       "    }\n",
       "\n",
       "    .dataframe thead th {\n",
       "        text-align: right;\n",
       "    }\n",
       "</style>\n",
       "<table border=\"1\" class=\"dataframe\">\n",
       "  <thead>\n",
       "    <tr style=\"text-align: right;\">\n",
       "      <th></th>\n",
       "      <th>Age</th>\n",
       "      <th>Number of sexual partners</th>\n",
       "      <th>First sexual intercourse</th>\n",
       "      <th>Num of pregnancies</th>\n",
       "      <th>STDs: Number of diagnosis</th>\n",
       "      <th>STDs: Time since first diagnosis</th>\n",
       "      <th>STDs: Time since last diagnosis</th>\n",
       "      <th>Outlier Age</th>\n",
       "      <th>Outlier Number of sexual partners</th>\n",
       "      <th>Outlier First sexual intercourse</th>\n",
       "      <th>Outlier Num of pregnancies</th>\n",
       "      <th>Outlier STDs: Number of diagnosis</th>\n",
       "      <th>Outlier STDs: Time since first diagnosis</th>\n",
       "      <th>Outlier STDs: Time since last diagnosis</th>\n",
       "    </tr>\n",
       "  </thead>\n",
       "  <tbody>\n",
       "    <tr>\n",
       "      <th>0</th>\n",
       "      <td>18</td>\n",
       "      <td>4.0</td>\n",
       "      <td>15.0000</td>\n",
       "      <td>1.0</td>\n",
       "      <td>0</td>\n",
       "      <td>6.140845</td>\n",
       "      <td>5.816901</td>\n",
       "      <td>0</td>\n",
       "      <td>0</td>\n",
       "      <td>0</td>\n",
       "      <td>0</td>\n",
       "      <td>0</td>\n",
       "      <td>0</td>\n",
       "      <td>0</td>\n",
       "    </tr>\n",
       "    <tr>\n",
       "      <th>1</th>\n",
       "      <td>15</td>\n",
       "      <td>1.0</td>\n",
       "      <td>14.0000</td>\n",
       "      <td>1.0</td>\n",
       "      <td>0</td>\n",
       "      <td>6.140845</td>\n",
       "      <td>5.816901</td>\n",
       "      <td>0</td>\n",
       "      <td>0</td>\n",
       "      <td>0</td>\n",
       "      <td>0</td>\n",
       "      <td>0</td>\n",
       "      <td>0</td>\n",
       "      <td>0</td>\n",
       "    </tr>\n",
       "    <tr>\n",
       "      <th>2</th>\n",
       "      <td>34</td>\n",
       "      <td>1.0</td>\n",
       "      <td>16.9953</td>\n",
       "      <td>1.0</td>\n",
       "      <td>0</td>\n",
       "      <td>6.140845</td>\n",
       "      <td>5.816901</td>\n",
       "      <td>0</td>\n",
       "      <td>0</td>\n",
       "      <td>0</td>\n",
       "      <td>0</td>\n",
       "      <td>0</td>\n",
       "      <td>0</td>\n",
       "      <td>0</td>\n",
       "    </tr>\n",
       "    <tr>\n",
       "      <th>3</th>\n",
       "      <td>52</td>\n",
       "      <td>5.0</td>\n",
       "      <td>16.0000</td>\n",
       "      <td>4.0</td>\n",
       "      <td>0</td>\n",
       "      <td>6.140845</td>\n",
       "      <td>5.816901</td>\n",
       "      <td>1</td>\n",
       "      <td>1</td>\n",
       "      <td>0</td>\n",
       "      <td>0</td>\n",
       "      <td>0</td>\n",
       "      <td>0</td>\n",
       "      <td>0</td>\n",
       "    </tr>\n",
       "    <tr>\n",
       "      <th>4</th>\n",
       "      <td>46</td>\n",
       "      <td>3.0</td>\n",
       "      <td>21.0000</td>\n",
       "      <td>4.0</td>\n",
       "      <td>0</td>\n",
       "      <td>6.140845</td>\n",
       "      <td>5.816901</td>\n",
       "      <td>0</td>\n",
       "      <td>0</td>\n",
       "      <td>0</td>\n",
       "      <td>0</td>\n",
       "      <td>0</td>\n",
       "      <td>0</td>\n",
       "      <td>0</td>\n",
       "    </tr>\n",
       "    <tr>\n",
       "      <th>...</th>\n",
       "      <td>...</td>\n",
       "      <td>...</td>\n",
       "      <td>...</td>\n",
       "      <td>...</td>\n",
       "      <td>...</td>\n",
       "      <td>...</td>\n",
       "      <td>...</td>\n",
       "      <td>...</td>\n",
       "      <td>...</td>\n",
       "      <td>...</td>\n",
       "      <td>...</td>\n",
       "      <td>...</td>\n",
       "      <td>...</td>\n",
       "      <td>...</td>\n",
       "    </tr>\n",
       "    <tr>\n",
       "      <th>853</th>\n",
       "      <td>34</td>\n",
       "      <td>3.0</td>\n",
       "      <td>18.0000</td>\n",
       "      <td>0.0</td>\n",
       "      <td>0</td>\n",
       "      <td>6.140845</td>\n",
       "      <td>5.816901</td>\n",
       "      <td>0</td>\n",
       "      <td>0</td>\n",
       "      <td>0</td>\n",
       "      <td>0</td>\n",
       "      <td>0</td>\n",
       "      <td>0</td>\n",
       "      <td>0</td>\n",
       "    </tr>\n",
       "    <tr>\n",
       "      <th>854</th>\n",
       "      <td>32</td>\n",
       "      <td>2.0</td>\n",
       "      <td>19.0000</td>\n",
       "      <td>1.0</td>\n",
       "      <td>0</td>\n",
       "      <td>6.140845</td>\n",
       "      <td>5.816901</td>\n",
       "      <td>0</td>\n",
       "      <td>0</td>\n",
       "      <td>0</td>\n",
       "      <td>0</td>\n",
       "      <td>0</td>\n",
       "      <td>0</td>\n",
       "      <td>0</td>\n",
       "    </tr>\n",
       "    <tr>\n",
       "      <th>855</th>\n",
       "      <td>25</td>\n",
       "      <td>2.0</td>\n",
       "      <td>17.0000</td>\n",
       "      <td>0.0</td>\n",
       "      <td>0</td>\n",
       "      <td>6.140845</td>\n",
       "      <td>5.816901</td>\n",
       "      <td>0</td>\n",
       "      <td>0</td>\n",
       "      <td>0</td>\n",
       "      <td>0</td>\n",
       "      <td>0</td>\n",
       "      <td>0</td>\n",
       "      <td>0</td>\n",
       "    </tr>\n",
       "    <tr>\n",
       "      <th>856</th>\n",
       "      <td>33</td>\n",
       "      <td>2.0</td>\n",
       "      <td>24.0000</td>\n",
       "      <td>2.0</td>\n",
       "      <td>0</td>\n",
       "      <td>6.140845</td>\n",
       "      <td>5.816901</td>\n",
       "      <td>0</td>\n",
       "      <td>0</td>\n",
       "      <td>1</td>\n",
       "      <td>0</td>\n",
       "      <td>0</td>\n",
       "      <td>0</td>\n",
       "      <td>0</td>\n",
       "    </tr>\n",
       "    <tr>\n",
       "      <th>857</th>\n",
       "      <td>29</td>\n",
       "      <td>2.0</td>\n",
       "      <td>20.0000</td>\n",
       "      <td>1.0</td>\n",
       "      <td>0</td>\n",
       "      <td>6.140845</td>\n",
       "      <td>5.816901</td>\n",
       "      <td>0</td>\n",
       "      <td>0</td>\n",
       "      <td>0</td>\n",
       "      <td>0</td>\n",
       "      <td>0</td>\n",
       "      <td>0</td>\n",
       "      <td>0</td>\n",
       "    </tr>\n",
       "  </tbody>\n",
       "</table>\n",
       "<p>858 rows × 14 columns</p>\n",
       "</div>"
      ],
      "text/plain": [
       "     Age  Number of sexual partners  First sexual intercourse  \\\n",
       "0     18                        4.0                   15.0000   \n",
       "1     15                        1.0                   14.0000   \n",
       "2     34                        1.0                   16.9953   \n",
       "3     52                        5.0                   16.0000   \n",
       "4     46                        3.0                   21.0000   \n",
       "..   ...                        ...                       ...   \n",
       "853   34                        3.0                   18.0000   \n",
       "854   32                        2.0                   19.0000   \n",
       "855   25                        2.0                   17.0000   \n",
       "856   33                        2.0                   24.0000   \n",
       "857   29                        2.0                   20.0000   \n",
       "\n",
       "     Num of pregnancies  STDs: Number of diagnosis  \\\n",
       "0                   1.0                          0   \n",
       "1                   1.0                          0   \n",
       "2                   1.0                          0   \n",
       "3                   4.0                          0   \n",
       "4                   4.0                          0   \n",
       "..                  ...                        ...   \n",
       "853                 0.0                          0   \n",
       "854                 1.0                          0   \n",
       "855                 0.0                          0   \n",
       "856                 2.0                          0   \n",
       "857                 1.0                          0   \n",
       "\n",
       "     STDs: Time since first diagnosis  STDs: Time since last diagnosis  \\\n",
       "0                            6.140845                         5.816901   \n",
       "1                            6.140845                         5.816901   \n",
       "2                            6.140845                         5.816901   \n",
       "3                            6.140845                         5.816901   \n",
       "4                            6.140845                         5.816901   \n",
       "..                                ...                              ...   \n",
       "853                          6.140845                         5.816901   \n",
       "854                          6.140845                         5.816901   \n",
       "855                          6.140845                         5.816901   \n",
       "856                          6.140845                         5.816901   \n",
       "857                          6.140845                         5.816901   \n",
       "\n",
       "     Outlier Age  Outlier Number of sexual partners  \\\n",
       "0              0                                  0   \n",
       "1              0                                  0   \n",
       "2              0                                  0   \n",
       "3              1                                  1   \n",
       "4              0                                  0   \n",
       "..           ...                                ...   \n",
       "853            0                                  0   \n",
       "854            0                                  0   \n",
       "855            0                                  0   \n",
       "856            0                                  0   \n",
       "857            0                                  0   \n",
       "\n",
       "     Outlier First sexual intercourse  Outlier Num of pregnancies  \\\n",
       "0                                   0                           0   \n",
       "1                                   0                           0   \n",
       "2                                   0                           0   \n",
       "3                                   0                           0   \n",
       "4                                   0                           0   \n",
       "..                                ...                         ...   \n",
       "853                                 0                           0   \n",
       "854                                 0                           0   \n",
       "855                                 0                           0   \n",
       "856                                 1                           0   \n",
       "857                                 0                           0   \n",
       "\n",
       "     Outlier STDs: Number of diagnosis  \\\n",
       "0                                    0   \n",
       "1                                    0   \n",
       "2                                    0   \n",
       "3                                    0   \n",
       "4                                    0   \n",
       "..                                 ...   \n",
       "853                                  0   \n",
       "854                                  0   \n",
       "855                                  0   \n",
       "856                                  0   \n",
       "857                                  0   \n",
       "\n",
       "     Outlier STDs: Time since first diagnosis  \\\n",
       "0                                           0   \n",
       "1                                           0   \n",
       "2                                           0   \n",
       "3                                           0   \n",
       "4                                           0   \n",
       "..                                        ...   \n",
       "853                                         0   \n",
       "854                                         0   \n",
       "855                                         0   \n",
       "856                                         0   \n",
       "857                                         0   \n",
       "\n",
       "     Outlier STDs: Time since last diagnosis  \n",
       "0                                          0  \n",
       "1                                          0  \n",
       "2                                          0  \n",
       "3                                          0  \n",
       "4                                          0  \n",
       "..                                       ...  \n",
       "853                                        0  \n",
       "854                                        0  \n",
       "855                                        0  \n",
       "856                                        0  \n",
       "857                                        0  \n",
       "\n",
       "[858 rows x 14 columns]"
      ]
     },
     "execution_count": 16,
     "metadata": {},
     "output_type": "execute_result"
    }
   ],
   "source": [
    "x1=Cervical['Age']>a1\n",
    "y1=Cervical['Age']<a2\n",
    "Cervical['Outlier Age']=np.where(x1|y1,1,0)\n",
    "x2=Cervical['Number of sexual partners']>b1\n",
    "y2=Cervical['Number of sexual partners']<b2\n",
    "Cervical['Outlier Number of sexual partners']=np.where(x2|y2,1,0)\n",
    "x3=Cervical['First sexual intercourse']>c1\n",
    "y3=Cervical['First sexual intercourse']<c2\n",
    "Cervical['Outlier First sexual intercourse']=np.where(x3|y3,1,0)\n",
    "x4=Cervical['Num of pregnancies']>d1\n",
    "y4=Cervical['Num of pregnancies']<d2\n",
    "Cervical['Outlier Num of pregnancies']=np.where(x4|y4,1,0)\n",
    "x5=Cervical['STDs: Number of diagnosis']>e1\n",
    "y5=Cervical['STDs: Number of diagnosis']<e2\n",
    "Cervical['Outlier STDs: Number of diagnosis']=np.where(x5|y5,1,0)\n",
    "x6=Cervical['STDs: Time since first diagnosis']>f1\n",
    "y6=Cervical['STDs: Time since first diagnosis']<f2\n",
    "Cervical['Outlier STDs: Time since first diagnosis']=np.where(x6|y6,1,0)\n",
    "x7=Cervical['STDs: Time since last diagnosis']>g1\n",
    "y7=Cervical['STDs: Time since last diagnosis']<g2\n",
    "Cervical['Outlier STDs: Time since last diagnosis']=np.where(x7|y7,1,0)\n",
    "Cervical"
   ]
  },
  {
   "cell_type": "code",
   "execution_count": 18,
   "metadata": {},
   "outputs": [
    {
     "data": {
      "text/plain": [
       "<matplotlib.axes._subplots.AxesSubplot at 0x150a52841c8>"
      ]
     },
     "execution_count": 18,
     "metadata": {},
     "output_type": "execute_result"
    },
    {
     "data": {
      "image/png": "[encoded data removed]",
      "text/plain": [
       "<Figure size 432x288 with 1 Axes>"
      ]
     },
     "metadata": {
      "needs_background": "light"
     },
     "output_type": "display_data"
    }
   ],
   "source": [
    "Cervical.boxplot(column=\"Age\")"
   ]
  },
  {
   "cell_type": "code",
   "execution_count": 19,
   "metadata": {},
   "outputs": [
    {
     "data": {
      "text/plain": [
       "<matplotlib.axes._subplots.AxesSubplot at 0x150a6fcab48>"
      ]
     },
     "execution_count": 19,
     "metadata": {},
     "output_type": "execute_result"
    },
    {
     "data": {
      "image/png": "[encoded data removed]",
      "text/plain": [
       "<Figure size 432x288 with 1 Axes>"
      ]
     },
     "metadata": {
      "needs_background": "light"
     },
     "output_type": "display_data"
    }
   ],
   "source": [
    "Cervical.boxplot(column=\"Number of sexual partners\")"
   ]
  },
  {
   "cell_type": "code",
   "execution_count": 20,
   "metadata": {},
   "outputs": [
    {
     "data": {
      "text/plain": [
       "<matplotlib.axes._subplots.AxesSubplot at 0x150a702f808>"
      ]
     },
     "execution_count": 20,
     "metadata": {},
     "output_type": "execute_result"
    },
    {
     "data": {
      "image/png": "[encoded data removed]",
      "text/plain": [
       "<Figure size 432x288 with 1 Axes>"
      ]
     },
     "metadata": {
      "needs_background": "light"
     },
     "output_type": "display_data"
    }
   ],
   "source": [
    "Cervical.boxplot(column=\"First sexual intercourse\")"
   ]
  },
  {
   "cell_type": "code",
   "execution_count": 21,
   "metadata": {},
   "outputs": [
    {
     "data": {
      "text/plain": [
       "<matplotlib.axes._subplots.AxesSubplot at 0x150a709bfc8>"
      ]
     },
     "execution_count": 21,
     "metadata": {},
     "output_type": "execute_result"
    },
    {
     "data": {
      "image/png": "[encoded data removed]",
      "text/plain": [
       "<Figure size 432x288 with 1 Axes>"
      ]
     },
     "metadata": {
      "needs_background": "light"
     },
     "output_type": "display_data"
    }
   ],
   "source": [
    "Cervical.boxplot(column=\"Num of pregnancies\")"
   ]
  },
  {
   "cell_type": "code",
   "execution_count": 22,
   "metadata": {},
   "outputs": [
    {
     "data": {
      "text/plain": [
       "<matplotlib.axes._subplots.AxesSubplot at 0x150a710f348>"
      ]
     },
     "execution_count": 22,
     "metadata": {},
     "output_type": "execute_result"
    },
    {
     "data": {
      "image/png": "[encoded data removed]",
      "text/plain": [
       "<Figure size 432x288 with 1 Axes>"
      ]
     },
     "metadata": {
      "needs_background": "light"
     },
     "output_type": "display_data"
    }
   ],
   "source": [
    "Cervical.boxplot(column=\"STDs: Number of diagnosis\")"
   ]
  },
  {
   "cell_type": "code",
   "execution_count": 23,
   "metadata": {},
   "outputs": [
    {
     "data": {
      "text/plain": [
       "<matplotlib.axes._subplots.AxesSubplot at 0x150a71682c8>"
      ]
     },
     "execution_count": 23,
     "metadata": {},
     "output_type": "execute_result"
    },
    {
     "data": {
      "image/png": "[encoded data removed]",
      "text/plain": [
       "<Figure size 432x288 with 1 Axes>"
      ]
     },
     "metadata": {
      "needs_background": "light"
     },
     "output_type": "display_data"
    }
   ],
   "source": [
    "Cervical.boxplot(column=\"STDs: Time since first diagnosis\")"
   ]
  },
  {
   "cell_type": "code",
   "execution_count": 24,
   "metadata": {},
   "outputs": [
    {
     "data": {
      "text/plain": [
       "<matplotlib.axes._subplots.AxesSubplot at 0x150a71d1b88>"
      ]
     },
     "execution_count": 24,
     "metadata": {},
     "output_type": "execute_result"
    },
    {
     "data": {
      "image/png": "[encoded data removed]",
      "text/plain": [
       "<Figure size 432x288 with 1 Axes>"
      ]
     },
     "metadata": {
      "needs_background": "light"
     },
     "output_type": "display_data"
    }
   ],
   "source": [
    "Cervical.boxplot(column=\"STDs: Time since last diagnosis\")"
   ]
  },
  {
   "cell_type": "markdown",
   "metadata": {},
   "source": [
    "## Principal Component Analysis"
   ]
  },
  {
   "cell_type": "code",
   "execution_count": 25,
   "metadata": {},
   "outputs": [],
   "source": [
    "from sklearn.preprocessing import StandardScaler\n",
    "from sklearn.decomposition import PCA"
   ]
  },
  {
   "cell_type": "code",
   "execution_count": 26,
   "metadata": {},
   "outputs": [
    {
     "data": {
      "text/plain": [
       "(7, 858)"
      ]
     },
     "execution_count": 26,
     "metadata": {},
     "output_type": "execute_result"
    }
   ],
   "source": [
    "cervical_1 = np.array([Cervical['Age'],Cervical['Number of sexual partners'],Cervical['First sexual intercourse'],Cervical['Num of pregnancies'],Cervical['STDs: Number of diagnosis'],Cervical['STDs: Time since first diagnosis'],Cervical['STDs: Time since last diagnosis']])\n",
    "cervical_1.shape"
   ]
  },
  {
   "cell_type": "code",
   "execution_count": 27,
   "metadata": {},
   "outputs": [
    {
     "data": {
      "text/plain": [
       "(858, 7)"
      ]
     },
     "execution_count": 27,
     "metadata": {},
     "output_type": "execute_result"
    }
   ],
   "source": [
    "cervical_t=cervical_1.transpose()\n",
    "cervical_t.shape"
   ]
  },
  {
   "cell_type": "code",
   "execution_count": 28,
   "metadata": {},
   "outputs": [
    {
     "data": {
      "text/plain": [
       "array([[-1.03856336e+00,  8.97061497e-01, -7.15095672e-01, ...,\n",
       "        -2.89093015e-01,  5.27483967e-16,  5.40292698e-16],\n",
       "       [-1.39179566e+00, -9.30747072e-01, -1.07348579e+00, ...,\n",
       "        -2.89093015e-01,  5.27483967e-16,  5.40292698e-16],\n",
       "       [ 8.45342268e-01, -9.30747072e-01,  0.00000000e+00, ...,\n",
       "        -2.89093015e-01,  5.27483967e-16,  5.40292698e-16],\n",
       "       ...,\n",
       "       [-2.14354647e-01, -3.21477549e-01,  1.68455989e-03, ...,\n",
       "        -2.89093015e-01,  5.27483967e-16,  5.40292698e-16],\n",
       "       [ 7.27598166e-01, -3.21477549e-01,  2.51041537e+00, ...,\n",
       "        -2.89093015e-01,  5.27483967e-16,  5.40292698e-16],\n",
       "       [ 2.56621760e-01, -3.21477549e-01,  1.07685491e+00, ...,\n",
       "        -2.89093015e-01,  5.27483967e-16,  5.40292698e-16]])"
      ]
     },
     "execution_count": 28,
     "metadata": {},
     "output_type": "execute_result"
    }
   ],
   "source": [
    "cervical_std=StandardScaler().fit_transform(cervical_t)\n",
    "cervical_std"
   ]
  },
  {
   "cell_type": "code",
   "execution_count": 31,
   "metadata": {},
   "outputs": [],
   "source": [
    "#Feature Selection\n",
    "pca=PCA(n_components=0.8,whiten=True)\n",
    "Cervical_pca=pca.fit_transform(cervical_std)"
   ]
  },
  {
   "cell_type": "code",
   "execution_count": 33,
   "metadata": {},
   "outputs": [
    {
     "name": "stdout",
     "output_type": "stream",
     "text": [
      "Original number of features: 7\n",
      "Reduced number of features: 4\n"
     ]
    }
   ],
   "source": [
    "print('Original number of features:', cervical_std.shape[1])\n",
    "print('Reduced number of features:', Cervical_pca.shape[1])"
   ]
  },
  {
   "cell_type": "code",
   "execution_count": 34,
   "metadata": {},
   "outputs": [
    {
     "data": {
      "text/html": [
       "<div>\n",
       "<style scoped>\n",
       "    .dataframe tbody tr th:only-of-type {\n",
       "        vertical-align: middle;\n",
       "    }\n",
       "\n",
       "    .dataframe tbody tr th {\n",
       "        vertical-align: top;\n",
       "    }\n",
       "\n",
       "    .dataframe thead th {\n",
       "        text-align: right;\n",
       "    }\n",
       "</style>\n",
       "<table border=\"1\" class=\"dataframe\">\n",
       "  <thead>\n",
       "    <tr style=\"text-align: right;\">\n",
       "      <th></th>\n",
       "      <th>PC1</th>\n",
       "      <th>PC2</th>\n",
       "      <th>PC3</th>\n",
       "      <th>PC4</th>\n",
       "    </tr>\n",
       "  </thead>\n",
       "  <tbody>\n",
       "    <tr>\n",
       "      <th>0</th>\n",
       "      <td>-0.413589</td>\n",
       "      <td>-1.095233</td>\n",
       "      <td>0.618478</td>\n",
       "      <td>-0.330014</td>\n",
       "    </tr>\n",
       "    <tr>\n",
       "      <th>1</th>\n",
       "      <td>-0.594906</td>\n",
       "      <td>-1.470281</td>\n",
       "      <td>-0.210416</td>\n",
       "      <td>-0.282729</td>\n",
       "    </tr>\n",
       "    <tr>\n",
       "      <th>2</th>\n",
       "      <td>-0.002787</td>\n",
       "      <td>-0.010280</td>\n",
       "      <td>-0.919034</td>\n",
       "      <td>-0.091117</td>\n",
       "    </tr>\n",
       "    <tr>\n",
       "      <th>3</th>\n",
       "      <td>0.907990</td>\n",
       "      <td>2.037212</td>\n",
       "      <td>1.284379</td>\n",
       "      <td>-0.743027</td>\n",
       "    </tr>\n",
       "    <tr>\n",
       "      <th>4</th>\n",
       "      <td>0.854125</td>\n",
       "      <td>2.105377</td>\n",
       "      <td>-0.438577</td>\n",
       "      <td>-0.219384</td>\n",
       "    </tr>\n",
       "    <tr>\n",
       "      <th>...</th>\n",
       "      <td>...</td>\n",
       "      <td>...</td>\n",
       "      <td>...</td>\n",
       "      <td>...</td>\n",
       "    </tr>\n",
       "    <tr>\n",
       "      <th>853</th>\n",
       "      <td>-0.047944</td>\n",
       "      <td>-0.156435</td>\n",
       "      <td>-0.652060</td>\n",
       "      <td>0.027945</td>\n",
       "    </tr>\n",
       "    <tr>\n",
       "      <th>854</th>\n",
       "      <td>0.029426</td>\n",
       "      <td>0.097224</td>\n",
       "      <td>-0.980173</td>\n",
       "      <td>0.044177</td>\n",
       "    </tr>\n",
       "    <tr>\n",
       "      <th>855</th>\n",
       "      <td>-0.339601</td>\n",
       "      <td>-0.837130</td>\n",
       "      <td>-0.754568</td>\n",
       "      <td>0.013296</td>\n",
       "    </tr>\n",
       "    <tr>\n",
       "      <th>856</th>\n",
       "      <td>0.331569</td>\n",
       "      <td>0.962506</td>\n",
       "      <td>-1.808833</td>\n",
       "      <td>0.348190</td>\n",
       "    </tr>\n",
       "    <tr>\n",
       "      <th>857</th>\n",
       "      <td>-0.019234</td>\n",
       "      <td>0.013018</td>\n",
       "      <td>-1.176929</td>\n",
       "      <td>0.138466</td>\n",
       "    </tr>\n",
       "  </tbody>\n",
       "</table>\n",
       "<p>858 rows × 4 columns</p>\n",
       "</div>"
      ],
      "text/plain": [
       "          PC1       PC2       PC3       PC4\n",
       "0   -0.413589 -1.095233  0.618478 -0.330014\n",
       "1   -0.594906 -1.470281 -0.210416 -0.282729\n",
       "2   -0.002787 -0.010280 -0.919034 -0.091117\n",
       "3    0.907990  2.037212  1.284379 -0.743027\n",
       "4    0.854125  2.105377 -0.438577 -0.219384\n",
       "..        ...       ...       ...       ...\n",
       "853 -0.047944 -0.156435 -0.652060  0.027945\n",
       "854  0.029426  0.097224 -0.980173  0.044177\n",
       "855 -0.339601 -0.837130 -0.754568  0.013296\n",
       "856  0.331569  0.962506 -1.808833  0.348190\n",
       "857 -0.019234  0.013018 -1.176929  0.138466\n",
       "\n",
       "[858 rows x 4 columns]"
      ]
     },
     "execution_count": 34,
     "metadata": {},
     "output_type": "execute_result"
    }
   ],
   "source": [
    "#PCA with Feature Selection\n",
    "data_pca=pd.DataFrame(cervical_pca, columns=[\"PC1\",\"PC2\",\"PC3\",\"PC4\"])\n",
    "data_pca"
   ]
  },
  {
   "cell_type": "code",
   "execution_count": 35,
   "metadata": {},
   "outputs": [],
   "source": [
    "#Feature Extraction\n",
    "from sklearn import decomposition"
   ]
  },
  {
   "cell_type": "code",
   "execution_count": 36,
   "metadata": {},
   "outputs": [],
   "source": [
    "pca2 = decomposition.PCA(n_components=2)\n",
    "cervical_pca2 = pca2.fit_transform(cervical_std)"
   ]
  },
  {
   "cell_type": "code",
   "execution_count": 37,
   "metadata": {},
   "outputs": [
    {
     "name": "stdout",
     "output_type": "stream",
     "text": [
      "Original number of features: 7\n",
      "Reduced numer of features: 2\n"
     ]
    }
   ],
   "source": [
    "print('Original number of features:', cervical_std.shape[1])\n",
    "print('Reduced numer of features:', cervical_pca2.shape[1])"
   ]
  },
  {
   "cell_type": "code",
   "execution_count": 38,
   "metadata": {},
   "outputs": [
    {
     "data": {
      "text/html": [
       "<div>\n",
       "<style scoped>\n",
       "    .dataframe tbody tr th:only-of-type {\n",
       "        vertical-align: middle;\n",
       "    }\n",
       "\n",
       "    .dataframe tbody tr th {\n",
       "        vertical-align: top;\n",
       "    }\n",
       "\n",
       "    .dataframe thead th {\n",
       "        text-align: right;\n",
       "    }\n",
       "</style>\n",
       "<table border=\"1\" class=\"dataframe\">\n",
       "  <thead>\n",
       "    <tr style=\"text-align: right;\">\n",
       "      <th></th>\n",
       "      <th>PC1</th>\n",
       "      <th>PC2</th>\n",
       "    </tr>\n",
       "  </thead>\n",
       "  <tbody>\n",
       "    <tr>\n",
       "      <th>0</th>\n",
       "      <td>-0.588129</td>\n",
       "      <td>-1.357920</td>\n",
       "    </tr>\n",
       "    <tr>\n",
       "      <th>1</th>\n",
       "      <td>-0.845964</td>\n",
       "      <td>-1.822922</td>\n",
       "    </tr>\n",
       "    <tr>\n",
       "      <th>2</th>\n",
       "      <td>-0.003963</td>\n",
       "      <td>-0.012746</td>\n",
       "    </tr>\n",
       "    <tr>\n",
       "      <th>3</th>\n",
       "      <td>1.291172</td>\n",
       "      <td>2.525830</td>\n",
       "    </tr>\n",
       "    <tr>\n",
       "      <th>4</th>\n",
       "      <td>1.214576</td>\n",
       "      <td>2.610344</td>\n",
       "    </tr>\n",
       "    <tr>\n",
       "      <th>...</th>\n",
       "      <td>...</td>\n",
       "      <td>...</td>\n",
       "    </tr>\n",
       "    <tr>\n",
       "      <th>853</th>\n",
       "      <td>-0.068177</td>\n",
       "      <td>-0.193955</td>\n",
       "    </tr>\n",
       "    <tr>\n",
       "      <th>854</th>\n",
       "      <td>0.041844</td>\n",
       "      <td>0.120542</td>\n",
       "    </tr>\n",
       "    <tr>\n",
       "      <th>855</th>\n",
       "      <td>-0.482917</td>\n",
       "      <td>-1.037912</td>\n",
       "    </tr>\n",
       "    <tr>\n",
       "      <th>856</th>\n",
       "      <td>0.471496</td>\n",
       "      <td>1.193359</td>\n",
       "    </tr>\n",
       "    <tr>\n",
       "      <th>857</th>\n",
       "      <td>-0.027352</td>\n",
       "      <td>0.016141</td>\n",
       "    </tr>\n",
       "  </tbody>\n",
       "</table>\n",
       "<p>858 rows × 2 columns</p>\n",
       "</div>"
      ],
      "text/plain": [
       "          PC1       PC2\n",
       "0   -0.588129 -1.357920\n",
       "1   -0.845964 -1.822922\n",
       "2   -0.003963 -0.012746\n",
       "3    1.291172  2.525830\n",
       "4    1.214576  2.610344\n",
       "..        ...       ...\n",
       "853 -0.068177 -0.193955\n",
       "854  0.041844  0.120542\n",
       "855 -0.482917 -1.037912\n",
       "856  0.471496  1.193359\n",
       "857 -0.027352  0.016141\n",
       "\n",
       "[858 rows x 2 columns]"
      ]
     },
     "execution_count": 38,
     "metadata": {},
     "output_type": "execute_result"
    }
   ],
   "source": [
    "#PCA with Feature Extraction\n",
    "data2_pca=pd.DataFrame(cervical_pca2, columns=[\"PC1\",\"PC2\"])\n",
    "data2_pca"
   ]
  },
  {
   "cell_type": "markdown",
   "metadata": {},
   "source": [
    "## K-means Clustering"
   ]
  },
  {
   "cell_type": "code",
   "execution_count": 39,
   "metadata": {},
   "outputs": [],
   "source": [
    "import numpy as np\n",
    "from numpy.linalg import norm"
   ]
  },
  {
   "cell_type": "code",
   "execution_count": 42,
   "metadata": {},
   "outputs": [
    {
     "ename": "IndentationError",
     "evalue": "expected an indented block (<ipython-input-42-fbe1c7313587>, line 2)",
     "output_type": "error",
     "traceback": [
      "\u001b[1;36m  File \u001b[1;32m\"<ipython-input-42-fbe1c7313587>\"\u001b[1;36m, line \u001b[1;32m2\u001b[0m\n\u001b[1;33m    '''Implementing Kmeans algorithm.'''\u001b[0m\n\u001b[1;37m                                       ^\u001b[0m\n\u001b[1;31mIndentationError\u001b[0m\u001b[1;31m:\u001b[0m expected an indented block\n"
     ]
    }
   ],
   "source": [
    "class Kmeans:\n",
    "'''Implementing Kmeans algorithm.'''\n",
    "def __init__(self, n_clusters, max_iter=100, random_state=123):\n",
    "self.n_clusters = n_clusters\n",
    "self.max_iter = max_iter\n",
    "self.random_state = random_state\n",
    "def initializ_centroids(self, X):\n",
    "np.random.RandomState(self.random_state)\n",
    "random_idx = np.random.permutation(X.shape[0])\n",
    "centroids = X[random_idx[:self.n_clusters]]\n",
    "return centroids\n",
    "def compute_centroids(self, X, labels):\n",
    "centroids = np.zeros((self.n_clusters, X.shape[1]))\n",
    "for k in range(self.n_clusters):\n",
    "centroids[k, :] = np.mean(X[labels == k, :], axis=0)\n",
    "return centroids\n",
    "def compute_distance(self, X, centroids):\n",
    "distance = np.zeros((X.shape[0], self.n_clusters))\n",
    "for k in range(self.n_clusters):\n",
    "row_norm = norm(X - centroids[k, :], axis=1)\n",
    "distance[:, k] = np.square(row_norm)\n",
    "return distance\n",
    "def find_closest_cluster(self, distance):\n",
    "return np.argmin(distance, axis=1)\n",
    "def compute_sse(self, X, labels, centroids):\n",
    "distance = np.zeros(X.shape[0])\n",
    "for k in range(self.n_clusters):\n",
    "distance[labels == k] = norm(X[labels == k] - centroids[k], axis=1)\n",
    "return np.sum(np.square(distance))\n",
    "def fit(self, X):\n",
    "self.centroids = self.initializ_centroids(X)\n",
    "for i in range(self.max_iter):\n",
    "old_centroids = self.centroids\n",
    "distance = self.compute_distance(X, old_centroids)\n",
    "self.labels = self.find_closest_cluster(distance)\n",
    "self.centroids = self.compute_centroids(X, self.labels)\n",
    "if np.all(old_centroids == self.centroids):\n",
    "break\n",
    "self.error = self.compute_sse(X, self.labels, self.centroids)\n",
    "def predict(self, X):\n",
    "distance = self.compute_distance(X, old_centroids)\n",
    "return self.find_closest_cluster(distance)"
   ]
  },
  {
   "cell_type": "code",
   "execution_count": 43,
   "metadata": {},
   "outputs": [
    {
     "name": "stdout",
     "output_type": "stream",
     "text": [
      "(858, 2)\n"
     ]
    }
   ],
   "source": [
    "print(data2_pca.shape)"
   ]
  },
  {
   "cell_type": "code",
   "execution_count": 44,
   "metadata": {},
   "outputs": [
    {
     "data": {
      "text/html": [
       "<div>\n",
       "<style scoped>\n",
       "    .dataframe tbody tr th:only-of-type {\n",
       "        vertical-align: middle;\n",
       "    }\n",
       "\n",
       "    .dataframe tbody tr th {\n",
       "        vertical-align: top;\n",
       "    }\n",
       "\n",
       "    .dataframe thead th {\n",
       "        text-align: right;\n",
       "    }\n",
       "</style>\n",
       "<table border=\"1\" class=\"dataframe\">\n",
       "  <thead>\n",
       "    <tr style=\"text-align: right;\">\n",
       "      <th></th>\n",
       "      <th>PC1</th>\n",
       "      <th>PC2</th>\n",
       "    </tr>\n",
       "  </thead>\n",
       "  <tbody>\n",
       "    <tr>\n",
       "      <th>0</th>\n",
       "      <td>-0.588129</td>\n",
       "      <td>-1.357920</td>\n",
       "    </tr>\n",
       "    <tr>\n",
       "      <th>1</th>\n",
       "      <td>-0.845964</td>\n",
       "      <td>-1.822922</td>\n",
       "    </tr>\n",
       "    <tr>\n",
       "      <th>2</th>\n",
       "      <td>-0.003963</td>\n",
       "      <td>-0.012746</td>\n",
       "    </tr>\n",
       "    <tr>\n",
       "      <th>3</th>\n",
       "      <td>1.291172</td>\n",
       "      <td>2.525830</td>\n",
       "    </tr>\n",
       "    <tr>\n",
       "      <th>4</th>\n",
       "      <td>1.214576</td>\n",
       "      <td>2.610344</td>\n",
       "    </tr>\n",
       "  </tbody>\n",
       "</table>\n",
       "</div>"
      ],
      "text/plain": [
       "        PC1       PC2\n",
       "0 -0.588129 -1.357920\n",
       "1 -0.845964 -1.822922\n",
       "2 -0.003963 -0.012746\n",
       "3  1.291172  2.525830\n",
       "4  1.214576  2.610344"
      ]
     },
     "execution_count": 44,
     "metadata": {},
     "output_type": "execute_result"
    }
   ],
   "source": [
    "data2_pca.head()"
   ]
  },
  {
   "cell_type": "code",
   "execution_count": 45,
   "metadata": {},
   "outputs": [
    {
     "name": "stderr",
     "output_type": "stream",
     "text": [
      "C:\\Users\\Hp\\anaconda3\\lib\\site-packages\\sklearn\\utils\\deprecation.py:144: FutureWarning: The sklearn.datasets.samples_generator module is  deprecated in version 0.22 and will be removed in version 0.24. The corresponding classes / functions should instead be imported from sklearn.datasets. Anything that cannot be imported from sklearn.datasets is now part of the private API.\n",
      "  warnings.warn(message, FutureWarning)\n"
     ]
    }
   ],
   "source": [
    "# Modules\n",
    "import matplotlib.pyplot as plt\n",
    "from matplotlib.image import imread\n",
    "import pandas as pd\n",
    "import seaborn as sns\n",
    "from sklearn.datasets.samples_generator import (make_blobs,make_circles, make_moons)\n",
    "from sklearn.cluster import KMeans, SpectralClustering\n",
    "from sklearn.preprocessing import StandardScaler\n",
    "from sklearn.metrics import silhouette_samples, silhouette_score\n",
    "%matplotlib inline\n",
    "sns.set_context('notebook')\n",
    "plt.style.use('fivethirtyeight')\n",
    "from warnings import filterwarnings\n",
    "filterwarnings('ignore')"
   ]
  },
  {
   "cell_type": "code",
   "execution_count": 63,
   "metadata": {},
   "outputs": [
    {
     "data": {
      "image/png": "[encoded data removed]",
      "text/plain": [
       "<Figure size 432x432 with 1 Axes>"
      ]
     },
     "metadata": {},
     "output_type": "display_data"
    }
   ],
   "source": [
    "# Plot the data\n",
    "plt.figure(figsize=(6, 6))\n",
    "plt.scatter(data2_pca.iloc[:, 0], data2_pca.iloc[:, 1])\n",
    "plt.xlabel('PC1')\n",
    "plt.ylabel('PC2')\n",
    "plt.title('Visualization of raw data');"
   ]
  },
  {
   "cell_type": "code",
   "execution_count": 48,
   "metadata": {},
   "outputs": [
    {
     "data": {
      "text/plain": [
       "array([[-0.41383033, -1.0958717 ],\n",
       "       [-0.59525306, -1.47113844],\n",
       "       [-0.00278867, -0.01028609],\n",
       "       ...,\n",
       "       [-0.33979902, -0.83761801],\n",
       "       [ 0.33176271,  0.96306699],\n",
       "       [-0.01924559,  0.01302586]])"
      ]
     },
     "execution_count": 48,
     "metadata": {},
     "output_type": "execute_result"
    }
   ],
   "source": [
    "# Standardize the data\n",
    "X_std = StandardScaler().fit_transform(data2_pca)\n",
    "X_std"
   ]
  },
  {
   "cell_type": "code",
   "execution_count": 55,
   "metadata": {},
   "outputs": [],
   "source": [
    "# Run local implementation of kmeans\n",
    "km = KMeans(n_clusters=2, max_iter=100)\n",
    "km.fit(X_std)\n",
    "centroids = km.cluster_centers_"
   ]
  },
  {
   "cell_type": "code",
   "execution_count": 61,
   "metadata": {},
   "outputs": [
    {
     "data": {
      "text/plain": [
       "array([[-0.41383033, -1.0958717 ],\n",
       "       [-0.59525306, -1.47113844],\n",
       "       [-0.00278867, -0.01028609],\n",
       "       ...,\n",
       "       [-0.33979902, -0.83761801],\n",
       "       [ 0.33176271,  0.96306699],\n",
       "       [-0.01924559,  0.01302586]])"
      ]
     },
     "execution_count": 61,
     "metadata": {},
     "output_type": "execute_result"
    },
    {
     "data": {
      "image/png": "[encoded data removed]",
      "text/plain": [
       "<Figure size 432x432 with 1 Axes>"
      ]
     },
     "metadata": {},
     "output_type": "display_data"
    }
   ],
   "source": [
    "# Plot the clustered data\n",
    "fig, ax = plt.subplots(figsize=(6, 6))\n",
    "plt.scatter(X_std[km.labels_ == 0, 0], X_std[km.labels_ == 0, 1],\n",
    "c='green', label='cluster 1')\n",
    "plt.scatter(X_std[km.labels_ == 1, 0], X_std[km.labels_ == 1, 1],\n",
    "c='blue', label='cluster 2')\n",
    "plt.scatter(centroids[:, 0], centroids[:, 1], marker='*', s=300,\n",
    "c='r', label='centroid')\n",
    "plt.legend()\n",
    "plt.xlim([-2, 2])\n",
    "plt.ylim([-2, 2])\n",
    "plt.xlabel('PC1')\n",
    "plt.ylabel('PC2')\n",
    "plt.title('Visualization of clustered data', fontweight='bold')\n",
    "ax.set_aspect('equal');\n",
    "X_std"
   ]
  },
  {
   "cell_type": "code",
   "execution_count": 51,
   "metadata": {},
   "outputs": [
    {
     "data": {
      "text/plain": [
       "<seaborn.axisgrid.PairGrid at 0x150a815ed88>"
      ]
     },
     "execution_count": 51,
     "metadata": {},
     "output_type": "execute_result"
    },
    {
     "data": {
      "image/png": "[encoded data removed]",
      "text/plain": [
       "<Figure size 720x720 with 20 Axes>"
      ]
     },
     "metadata": {},
     "output_type": "display_data"
    }
   ],
   "source": [
    "#seaborn visualization library\n",
    "import seaborn as sns\n",
    "import pandas as pd\n",
    "sns.pairplot(pd.DataFrame(data_pca))"
   ]
  }
 ],
 "metadata": {
  "kernelspec": {
   "display_name": "Python 3",
   "language": "python",
   "name": "python3"
  },
  "language_info": {
   "codemirror_mode": {
    "name": "ipython",
    "version": 3
   },
   "file_extension": ".py",
   "mimetype": "text/x-python",
   "name": "python",
   "nbconvert_exporter": "python",
   "pygments_lexer": "ipython3",
   "version": "3.7.6"
  }
 },
 "nbformat": 4,
 "nbformat_minor": 4
}
